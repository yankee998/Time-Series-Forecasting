{
 "cells": [
  {
   "cell_type": "code",
   "execution_count": 1,
   "id": "487e8977-c1b7-465a-a046-c606f7bca1e0",
   "metadata": {},
   "outputs": [],
   "source": [
    "import pandas as pd\n",
    "import os"
   ]
  },
  {
   "cell_type": "code",
   "execution_count": 3,
   "id": "fa139705-2f97-4126-a163-67f76b4c47c9",
   "metadata": {},
   "outputs": [
    {
     "name": "stdout",
     "output_type": "stream",
     "text": [
      "Train size: 2140, Test size: 396\n"
     ]
    }
   ],
   "source": [
    "# Define paths and load data\n",
    "input_path = \"C:/Users/Skyline/Time Series Forecasting/data/processed\"\n",
    "df_tsla = pd.read_csv(os.path.join(input_path, \"TSLA_cleaned.csv\"))\n",
    "\n",
    "# Convert Date to datetime and set as index\n",
    "df_tsla['Date'] = pd.to_datetime(df_tsla['Date'])\n",
    "df_tsla.set_index('Date', inplace=True)\n",
    "\n",
    "# Split into training (2015-2023) and testing (2024-2025) sets\n",
    "train = df_tsla['Close'].loc['2015-07-01':'2023-12-31']\n",
    "test = df_tsla['Close'].loc['2024-01-01':'2025-07-31']\n",
    "\n",
    "print(f\"Train size: {len(train)}, Test size: {len(test)}\")"
   ]
  },
  {
   "cell_type": "code",
   "execution_count": null,
   "id": "f824b401-c5d9-49aa-9671-ff5b97c69c91",
   "metadata": {},
   "outputs": [],
   "source": []
  }
 ],
 "metadata": {
  "kernelspec": {
   "display_name": "Python 3 (ipykernel)",
   "language": "python",
   "name": "python3"
  },
  "language_info": {
   "codemirror_mode": {
    "name": "ipython",
    "version": 3
   },
   "file_extension": ".py",
   "mimetype": "text/x-python",
   "name": "python",
   "nbconvert_exporter": "python",
   "pygments_lexer": "ipython3",
   "version": "3.10.13"
  }
 },
 "nbformat": 4,
 "nbformat_minor": 5
}
